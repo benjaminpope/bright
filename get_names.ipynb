{
 "cells": [
  {
   "cell_type": "markdown",
   "metadata": {},
   "source": [
    "## Get Names - a script to query MAST and SIMBAD to get the names for a list of EPICs"
   ]
  },
  {
   "cell_type": "code",
   "execution_count": 38,
   "metadata": {},
   "outputs": [],
   "source": [
    "from keplersmear import epic_query\n",
    "from astropy.table import Table\n",
    "from astropy import coordinates\n",
    "import astropy.units as u\n",
    "from astroquery.simbad import Simbad\n",
    "Simbad.ROW_LIMIT = 25"
   ]
  },
  {
   "cell_type": "code",
   "execution_count": 39,
   "metadata": {
    "collapsed": true
   },
   "outputs": [],
   "source": [
    "fname = \"c14_targets.csv\""
   ]
  },
  {
   "cell_type": "code",
   "execution_count": 40,
   "metadata": {},
   "outputs": [],
   "source": [
    "data = Table.read(fname,format='ascii')"
   ]
  },
  {
   "cell_type": "code",
   "execution_count": 41,
   "metadata": {},
   "outputs": [],
   "source": [
    "epics = data['EPIC'].data"
   ]
  },
  {
   "cell_type": "code",
   "execution_count": 73,
   "metadata": {},
   "outputs": [
    {
     "name": "stdout",
     "output_type": "stream",
     "text": [
      "200182925\n",
      "58_Leo\n",
      "200182926\n",
      "48_Leo\n",
      "200182927\n",
      "p04_Leo\n",
      "200182928\n",
      "l_Leo\n",
      "200182929\n",
      "35_Sex_A\n",
      "200182930\n",
      "43_Leo\n",
      "201594287\n",
      "p04_Leo\n",
      "201674768\n",
      "HD_96710\n",
      "201826322\n",
      "HD_94515\n",
      "248433514\n",
      "HD_92706\n",
      "248469579\n",
      "31_Sex\n",
      "248476320\n",
      "HD_90125\n",
      "248477109\n",
      "HD_90155\n",
      "248513468\n",
      "HD_90572\n",
      "248519509\n",
      "HD_93101\n",
      "248557606\n",
      "35_Sex\n",
      "248595078\n",
      "HD_88802\n",
      "248619763\n",
      "HR_4207\n",
      "248626523\n",
      "43_Leo\n",
      "248665823\n",
      "HD_93169\n",
      "248735958\n",
      "HD_94030\n",
      "248759502\n",
      "HD_95004\n",
      "248868430\n",
      "HD_94460\n",
      "248895969\n",
      "HD_94318\n"
     ]
    }
   ],
   "source": [
    "names = []\n",
    "for epic in epics:\n",
    "    print epic\n",
    "    star = epic_query.MAST_EPIC(epic)\n",
    "    ra, dec = star['RA (J2000)'], star['Dec (J2000)']\n",
    "    c = coordinates.SkyCoord(ra,dec,unit=(u.hourangle, u.deg), frame='icrs')\n",
    "    results = Simbad.query_region(c)\n",
    "    name = results[0]['MAIN_ID'].replace('*','').strip().replace('  ','_').replace(' ','_')\n",
    "    print name\n",
    "    names.append(name)"
   ]
  },
  {
   "cell_type": "code",
   "execution_count": 74,
   "metadata": {
    "collapsed": true
   },
   "outputs": [],
   "source": [
    "data['Name'] = names"
   ]
  },
  {
   "cell_type": "code",
   "execution_count": 75,
   "metadata": {
    "collapsed": true
   },
   "outputs": [],
   "source": [
    "data.write('c14_targets.csv',overwrite='True')"
   ]
  },
  {
   "cell_type": "code",
   "execution_count": null,
   "metadata": {
    "collapsed": true
   },
   "outputs": [],
   "source": []
  }
 ],
 "metadata": {
  "kernelspec": {
   "display_name": "Python 2",
   "language": "python",
   "name": "python2"
  },
  "language_info": {
   "codemirror_mode": {
    "name": "ipython",
    "version": 2
   },
   "file_extension": ".py",
   "mimetype": "text/x-python",
   "name": "python",
   "nbconvert_exporter": "python",
   "pygments_lexer": "ipython2",
   "version": "2.7.13"
  }
 },
 "nbformat": 4,
 "nbformat_minor": 2
}
