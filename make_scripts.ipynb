{
 "cells": [
  {
   "cell_type": "markdown",
   "metadata": {},
   "source": [
    "## Make Scripts - write out the commands you need to process halo data"
   ]
  },
  {
   "cell_type": "code",
   "execution_count": 1,
   "metadata": {
    "collapsed": true
   },
   "outputs": [],
   "source": [
    "import numpy as np\n",
    "import matplotlib.pyplot as plt\n",
    "from astropy.table import Table\n"
   ]
  },
  {
   "cell_type": "code",
   "execution_count": 5,
   "metadata": {},
   "outputs": [],
   "source": [
    "### load data\n",
    "\n",
    "data = Table.read('c14_targets.csv')\n",
    "campaign = 14\n",
    "epics = data['EPIC']\n",
    "names = data['Name']"
   ]
  },
  {
   "cell_type": "code",
   "execution_count": 13,
   "metadata": {},
   "outputs": [
    {
     "name": "stdout",
     "output_type": "stream",
     "text": [
      "halo ktwo200182925-c14_lpd-targ.fits.gz --name 58_Leo -c 14 --analytic\n",
      "\n",
      "halo ktwo200182926-c14_lpd-targ.fits.gz --name 48_Leo -c 14 --analytic\n",
      "\n",
      "halo ktwo200182927-c14_lpd-targ.fits.gz --name p04_Leo -c 14 --analytic\n",
      "\n",
      "halo ktwo200182928-c14_lpd-targ.fits.gz --name l_Leo -c 14 --analytic\n",
      "\n",
      "halo ktwo200182929-c14_lpd-targ.fits.gz --name 35_Sex_A -c 14 --analytic\n",
      "\n",
      "halo ktwo200182930-c14_lpd-targ.fits.gz --name 43_Leo -c 14 --analytic\n",
      "\n",
      "halo ktwo201594287-c14_lpd-targ.fits.gz --name p04_Leo -c 14 --analytic\n",
      "\n",
      "halo ktwo201674768-c14_lpd-targ.fits.gz --name HD_96710 -c 14 --analytic\n",
      "\n",
      "halo ktwo201826322-c14_lpd-targ.fits.gz --name HD_94515 -c 14 --analytic\n",
      "\n",
      "halo ktwo248433514-c14_lpd-targ.fits.gz --name HD_92706 -c 14 --analytic\n",
      "\n",
      "halo ktwo248469579-c14_lpd-targ.fits.gz --name 31_Sex -c 14 --analytic\n",
      "\n",
      "halo ktwo248476320-c14_lpd-targ.fits.gz --name HD_90125 -c 14 --analytic\n",
      "\n",
      "halo ktwo248477109-c14_lpd-targ.fits.gz --name HD_90155 -c 14 --analytic\n",
      "\n",
      "halo ktwo248513468-c14_lpd-targ.fits.gz --name HD_90572 -c 14 --analytic\n",
      "\n",
      "halo ktwo248519509-c14_lpd-targ.fits.gz --name HD_93101 -c 14 --analytic\n",
      "\n",
      "halo ktwo248557606-c14_lpd-targ.fits.gz --name 35_Sex -c 14 --analytic\n",
      "\n",
      "halo ktwo248595078-c14_lpd-targ.fits.gz --name HD_88802 -c 14 --analytic\n",
      "\n",
      "halo ktwo248619763-c14_lpd-targ.fits.gz --name HR_4207 -c 14 --analytic\n",
      "\n",
      "halo ktwo248626523-c14_lpd-targ.fits.gz --name 43_Leo -c 14 --analytic\n",
      "\n",
      "halo ktwo248665823-c14_lpd-targ.fits.gz --name HD_93169 -c 14 --analytic\n",
      "\n",
      "halo ktwo248735958-c14_lpd-targ.fits.gz --name HD_94030 -c 14 --analytic\n",
      "\n",
      "halo ktwo248759502-c14_lpd-targ.fits.gz --name HD_95004 -c 14 --analytic\n",
      "\n",
      "halo ktwo248868430-c14_lpd-targ.fits.gz --name HD_94460 -c 14 --analytic\n",
      "\n",
      "halo ktwo248895969-c14_lpd-targ.fits.gz --name HD_94318 -c 14 --analytic\n",
      "\n"
     ]
    }
   ],
   "source": [
    "### generate a script to run halo on them\n",
    "\n",
    "f = open('c%d_script.txt' % campaign,'w')\n",
    "\n",
    "for j, epic in enumerate(epics):\n",
    "    name = names[j]\n",
    "    text = 'halo ktwo%d-c%d_lpd-targ.fits.gz --name %s -c %d --analytic\\n' % (epic,campaign,name,campaign)\n",
    "    print text\n",
    "    f.write(text)\n",
    "\n",
    "f.close()"
   ]
  },
  {
   "cell_type": "code",
   "execution_count": 15,
   "metadata": {},
   "outputs": [
    {
     "name": "stdout",
     "output_type": "stream",
     "text": [
      "k2sc . -c 14 --splits 3084.0,3124.0 --save-dir /kepler/kepler2/K2/C14/halo/reduced/final\n"
     ]
    }
   ],
   "source": [
    "### generate a script to run halo on them\n",
    "\n",
    "s1, s2 = 3084,3124\n",
    "\n",
    "f = open('c%d_k2sc.txt' % campaign,'w')\n",
    "\n",
    "text = 'k2sc . -c %d --splits %.1f,%.1f --save-dir /kepler/kepler2/K2/C%d/halo/reduced/final' % (campaign,s1,s2,campaign)\n",
    "print text\n",
    "f.write(text)\n",
    "\n",
    "f.close()"
   ]
  },
  {
   "cell_type": "markdown",
   "metadata": {},
   "source": [
    "### You may like to use mpirun -n 5 or so to run this more quickly."
   ]
  },
  {
   "cell_type": "code",
   "execution_count": null,
   "metadata": {
    "collapsed": true
   },
   "outputs": [],
   "source": []
  }
 ],
 "metadata": {
  "kernelspec": {
   "display_name": "Python 2",
   "language": "python",
   "name": "python2"
  },
  "language_info": {
   "codemirror_mode": {
    "name": "ipython",
    "version": 2
   },
   "file_extension": ".py",
   "mimetype": "text/x-python",
   "name": "python",
   "nbconvert_exporter": "python",
   "pygments_lexer": "ipython2",
   "version": "2.7.13"
  }
 },
 "nbformat": 4,
 "nbformat_minor": 2
}
